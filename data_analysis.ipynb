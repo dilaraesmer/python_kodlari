{
  "nbformat": 4,
  "nbformat_minor": 0,
  "metadata": {
    "colab": {
      "name": "data_analysis.ipynb",
      "private_outputs": true,
      "provenance": [],
      "collapsed_sections": [],
      "authorship_tag": "ABX9TyNOGEFQSgWgBzBjeQHXMX5q",
      "include_colab_link": true
    },
    "kernelspec": {
      "name": "python3",
      "display_name": "Python 3"
    },
    "language_info": {
      "name": "python"
    }
  },
  "cells": [
    {
      "cell_type": "markdown",
      "metadata": {
        "id": "view-in-github",
        "colab_type": "text"
      },
      "source": [
        "<a href=\"https://colab.research.google.com/github/dilaraesmer/python_kodlari/blob/main/data_analysis.ipynb\" target=\"_parent\"><img src=\"https://colab.research.google.com/assets/colab-badge.svg\" alt=\"Open In Colab\"/></a>"
      ]
    },
    {
      "cell_type": "code",
      "metadata": {
        "id": "vnBAi5EWArM5"
      },
      "source": [
        "import pandas as pd\n",
        "import numpy as np\n",
        "import matplotlib.pyplot as plt\n",
        "\n",
        "%matplotlib inline"
      ],
      "execution_count": null,
      "outputs": []
    },
    {
      "cell_type": "markdown",
      "metadata": {
        "id": "HCZvfJ-cDJ8w"
      },
      "source": [
        " Veriyi yükleme "
      ]
    },
    {
      "cell_type": "code",
      "metadata": {
        "id": "x0RpvCQQDQD1"
      },
      "source": [
        "!head sales_data.csv"
      ],
      "execution_count": null,
      "outputs": []
    },
    {
      "cell_type": "code",
      "metadata": {
        "id": "7Pz4yIOyINS2"
      },
      "source": [
        "sales = pd.read_csv('sales_data.csv', parse_dates=['Date'])\n",
        "sales # verilerin genel olarak görünümünü gösterir. (Tanımladığımız veri dahilinde)"
      ],
      "execution_count": null,
      "outputs": []
    },
    {
      "cell_type": "code",
      "metadata": {
        "id": "By7NkOgWKrl5"
      },
      "source": [
        "sales.head() # .head() 0'dan başlayarak ilk 5 değeri görüntülememizi sağlar. "
      ],
      "execution_count": null,
      "outputs": []
    },
    {
      "cell_type": "code",
      "metadata": {
        "id": "MBjT1CS4JMS9"
      },
      "source": [
        "sales.shape # .shape verilerimizin kaç satır kaç sütundan oluştunuğunu gösterir."
      ],
      "execution_count": null,
      "outputs": []
    },
    {
      "cell_type": "code",
      "metadata": {
        "id": "IYgMYmIcKFZG"
      },
      "source": [
        "sales.info() # .info() genel anlamıyla verilerin bilgisini vermektedir."
      ],
      "execution_count": null,
      "outputs": []
    },
    {
      "cell_type": "code",
      "metadata": {
        "id": "9_1MHhkkLhbJ"
      },
      "source": [
        "sales.describe() # verilerin istatistiksel özelliklerini göstermektedir. \n",
        "# örnek olarak; verilerideki müşteri-yaş ortalaması 35, en yüksek müşteri yaşı da 87'dir. "
      ],
      "execution_count": null,
      "outputs": []
    },
    {
      "cell_type": "markdown",
      "metadata": {
        "id": "HTEuBCCONW09"
      },
      "source": [
        "## Sayısal Analiz ve Görselleştirme\n",
        "\n",
        "*   Birim maliyet (Unit_Cost) sütunu için analiz yapacak olursak; \n",
        "\n"
      ]
    },
    {
      "cell_type": "code",
      "metadata": {
        "id": "qjD_iiBgOITx"
      },
      "source": [
        "sales['Unit_Cost'].describe()"
      ],
      "execution_count": null,
      "outputs": []
    },
    {
      "cell_type": "code",
      "metadata": {
        "id": "35FYh3UqPlRG"
      },
      "source": [
        "sales['Unit_Cost'].mean()"
      ],
      "execution_count": null,
      "outputs": []
    },
    {
      "cell_type": "code",
      "metadata": {
        "id": "uxY0LKm7PxHv"
      },
      "source": [
        "sales['Unit_Cost'].median()"
      ],
      "execution_count": null,
      "outputs": []
    },
    {
      "cell_type": "markdown",
      "metadata": {
        "id": "AJBI3ahCUc-q"
      },
      "source": [
        "Kutu grafiği (Box Plot), verilerin beş sayı özetine (“minimum”, ilk çeyrek (Q1), medyan, üçüncü çeyrek (Q3) ve “maksimum”) dayalı dağılımını göstermenin standart bir yoludur. Aykırı değerleri ve değerlerinin ne olduğu hakkında bilgi verir."
      ]
    },
    {
      "cell_type": "code",
      "metadata": {
        "id": "10m1mkPhSBYh"
      },
      "source": [
        "sales['Unit_Cost'].plot(kind = 'box', vert=False, figsize = (6,6))\n",
        "\n",
        "plt.savefig('box_plot.png')\n",
        "\n",
        "# veriler 500 dolar civarında toplanmıştır. Bu aykırı değer olarak görülmektedir."
      ],
      "execution_count": null,
      "outputs": []
    },
    {
      "cell_type": "markdown",
      "metadata": {
        "id": "Gu9s3kE3gO_D"
      },
      "source": [
        "Yoğunluk grafiği (Density Plot), sayısal bir değişkenin dağılımının bir temsilidir. Değişkenin olasılık yoğunluk fonksiyonunu göstermek için bir kernel yoğunluk tahmini kullanır. Histogramın düzleştirilmiş bir versiyonudur ve aynı amaçla kullanılır. İstatistikte, kernel yoğunluk tahmini (KDE), rastgele bir değişkenin olasılık yoğunluk fonksiyonunu tahmin etmenin parametrik olmayan bir yoludur."
      ]
    },
    {
      "cell_type": "code",
      "metadata": {
        "id": "RuUfJPZygo8r"
      },
      "source": [
        "sales['Unit_Cost'].plot(kind = 'density', figsize= (20,6)) # aynı zamanda kde (kernel density estimation) olarak da bilinir."
      ],
      "execution_count": null,
      "outputs": []
    },
    {
      "cell_type": "code",
      "metadata": {
        "id": "XIznvJKxiWM8"
      },
      "source": [
        "ax = sales['Unit_Cost'].plot(kind = 'density', figsize = (20,6)) #kde\n",
        "ax.axvline(sales['Unit_Cost'].mean(), color = 'red') # ürünlerin tahmini ortalama yoğunluğunu kırmızı çizgi göstermektedir.\n",
        "ax.axvline(sales['Unit_Cost'].median(), color = 'purple') # mor dikey çizgi ürünlerin tahmini yoğunluğunun ortanca değerini temsil etmektedir."
      ],
      "execution_count": null,
      "outputs": []
    },
    {
      "cell_type": "code",
      "metadata": {
        "id": "a9khiHHysiSe"
      },
      "source": [
        "ax = sales['Unit_Cost'].hist()\n",
        "ax.set_ylabel('Number of Sales')\n",
        "ax.set_xlabel('dollars')"
      ],
      "execution_count": null,
      "outputs": []
    },
    {
      "cell_type": "markdown",
      "metadata": {
        "id": "TCnrMkNR0iTJ"
      },
      "source": [
        "## Kategorik Analiz ve Görşelleştirme\n",
        "\n",
        "*   Yaş Grupları (Age_Group) sütunu üzerinden analiz gerçekleştirilecektir.\n",
        "\n"
      ]
    },
    {
      "cell_type": "code",
      "metadata": {
        "id": "LW7Crpni0z7K"
      },
      "source": [
        "sales.head()"
      ],
      "execution_count": null,
      "outputs": []
    },
    {
      "cell_type": "code",
      "metadata": {
        "id": "xk8qr4p873uq"
      },
      "source": [
        "sales['Age_Group'].value_counts() # Yaş gruplarına göre satışları görüntülemeyi sağlar."
      ],
      "execution_count": null,
      "outputs": []
    },
    {
      "cell_type": "markdown",
      "metadata": {
        "id": "3NPI8vGICVZB"
      },
      "source": [
        "Pasta grafikleri, kategorik veya nominal veriler için parça-bütün ilişkisini göstermek için anlamlıdır. Pastadaki dilimler genel olarak toplamın yüzdelerini temsil eder. Kategorik verilerle, örneklem genellikle gruplara ayrılır ve yanıtlar belirli bir sıraya sahiptir."
      ]
    },
    {
      "cell_type": "code",
      "metadata": {
        "id": "0SzByNQ0-TaQ"
      },
      "source": [
        "sales['Age_Group'].value_counts().plot(kind='pie', figsize=(8,8))\n",
        "plt.savefig('pie_chart.png')"
      ],
      "execution_count": null,
      "outputs": []
    },
    {
      "cell_type": "markdown",
      "metadata": {
        "id": "o0DECEFDDGCu"
      },
      "source": [
        "Bar grafiği, veri noktalarının dağılımını göstermek veya verilerin farklı alt gruplarında metrik değerlerin karşılaştırmasını yapmak istediğinizde bar grafiği kullanılır. Bir çubuk grafikten, hangi grupların en yüksek veya en yaygın olduğunu ve diğer grupların diğerleriyle nasıl karşılaştırıldığını görebilirsiniz."
      ]
    },
    {
      "cell_type": "code",
      "metadata": {
        "id": "2NUmgTBvEHfl"
      },
      "source": [
        "ax = sales['Age_Group'].value_counts().plot(kind='bar', figsize=(14,6))\n",
        "ax.set_ylabel('Number of Sales') \n",
        "plt.savefig('bar_chart.png')\n",
        "# satış sayılarını yaş gruplarına göre grafiksel görüntüleme yöntemi"
      ],
      "execution_count": null,
      "outputs": []
    },
    {
      "cell_type": "markdown",
      "metadata": {
        "id": "joNQOB8OInV4"
      },
      "source": [
        "## Sütunlar arasında ilişki var mı? "
      ]
    },
    {
      "cell_type": "markdown",
      "metadata": {
        "id": "HHRozqhxKlzx"
      },
      "source": [
        "İstatistikte korelasyon veya bağımlılık, iki rastgele değişken veya iki değişkenli veri arasındaki nedensel olsun veya olmasın herhangi bir istatistiksel ilişkidir. Korelasyon, iki değişken arasındaki ilişkinin gücünü gösterir ve korelasyon katsayısı ile sayısal olarak ifade edilir. Korelasyon katsayısı değerleri -1.0 ile 1.0 arasında değişmektedir."
      ]
    },
    {
      "cell_type": "code",
      "metadata": {
        "id": "ASq6qUFoIy7N"
      },
      "source": [
        "corr = sales.corr()\n",
        "corr \n",
        "# örneğin; birim maliyet (Unit_Cost) ile birim fiyat (Unit_Price) arasındaki ilişkinin derecesi yüksektir. \n"
      ],
      "execution_count": null,
      "outputs": []
    },
    {
      "cell_type": "code",
      "metadata": {
        "id": "-mymgLW6Pqvd"
      },
      "source": [
        "fig = plt.figure(figsize=(8,8))\n",
        "plt.matshow(corr, cmap='RdBu', fignum=fig.number)\n",
        "plt.xticks(range(len(corr.columns)), corr.columns, rotation = 'vertical');\n",
        "plt.yticks(range(len(corr.columns)), corr.columns);\n",
        "plt.savefig('correalation_plot.png')"
      ],
      "execution_count": null,
      "outputs": []
    },
    {
      "cell_type": "markdown",
      "metadata": {
        "id": "I9O4CNdoSksp"
      },
      "source": [
        "Koyu kırmızı ile gösterilen bölgeler korelasyonun yüksek dereceli negatif korelasyona sahip olduğunu, koyu mavi renkle boyanmış bölgelerde korelasyonun yüksek ve pozitif yönlü olduğunu göstermektedir. Renklerin yoğunluğu ilişkinin derecesini temsil etmektedir. "
      ]
    },
    {
      "cell_type": "markdown",
      "metadata": {
        "id": "GX5URTzZVBtb"
      },
      "source": [
        "Saçılım grafiği (scatter plot), iki farklı sayısal değişkenin değerlerini temsil etmek için noktaları kullanır. Yatay ve dikey eksendeki her noktanın konumu, tek bir veri noktası için değerleri belirtir. Değişkenler arasındaki ilişkileri gözlemlemek için serpilme diyagramı kullanılır."
      ]
    },
    {
      "cell_type": "code",
      "metadata": {
        "id": "dIvmR6irVTeK"
      },
      "source": [
        "sales.plot(kind ='scatter', x='Customer_Age', y='Revenue', figsize=(6,6))\n",
        "plt.savefig('scatter_plot.png')"
      ],
      "execution_count": null,
      "outputs": []
    },
    {
      "cell_type": "code",
      "metadata": {
        "id": "6wRqSTvSbbO8"
      },
      "source": [
        "sales.plot(kind ='scatter', x='Revenue', y='Profit', figsize=(6,6))\n"
      ],
      "execution_count": null,
      "outputs": []
    },
    {
      "cell_type": "code",
      "metadata": {
        "id": "715zwvLTceek"
      },
      "source": [
        "ax = sales[['Profit', 'Age_Group']].boxplot(by = 'Age_Group', figsize = (10,6))\n",
        "ax.set_ylabel('Profit')\n",
        "plt.savefig('group_box_plot.png')\n",
        "# kar değerlerine her bir yaş grubu için ayrı ayrı kutu grafiğinde bakılmasını sağlayan komut."
      ],
      "execution_count": null,
      "outputs": []
    }
  ]
}