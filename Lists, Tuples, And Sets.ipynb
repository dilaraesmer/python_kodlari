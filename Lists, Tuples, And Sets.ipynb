{
  "nbformat": 4,
  "nbformat_minor": 0,
  "metadata": {
    "colab": {
      "name": "Lists, Tuples, And Sets",
      "private_outputs": true,
      "provenance": [],
      "collapsed_sections": [],
      "authorship_tag": "ABX9TyPWDmduUhrPCgOWYqqCEcp8",
      "include_colab_link": true
    },
    "kernelspec": {
      "name": "python3",
      "display_name": "Python 3"
    },
    "language_info": {
      "name": "python"
    }
  },
  "cells": [
    {
      "cell_type": "markdown",
      "metadata": {
        "id": "view-in-github",
        "colab_type": "text"
      },
      "source": [
        "<a href=\"https://colab.research.google.com/github/dilaraesmer/python_kodlari/blob/main/Lists%2C%20Tuples%2C%20And%20Sets.ipynb\" target=\"_parent\"><img src=\"https://colab.research.google.com/assets/colab-badge.svg\" alt=\"Open In Colab\"/></a>"
      ]
    },
    {
      "cell_type": "code",
      "source": [
        "# Empty Lists\n",
        "empty_list = []\n",
        "empty_list = list()\n",
        "\n",
        "# Empty Tuples\n",
        "empty_tuple = ()\n",
        "empty_tuple = tuple()\n",
        "\n",
        "# Empty Sets\n",
        "empty_set = {} # This isn't right! It's dict\n",
        "empty_set = set()"
      ],
      "metadata": {
        "id": "jq2eswQCI7Ly"
      },
      "execution_count": null,
      "outputs": []
    },
    {
      "cell_type": "code",
      "execution_count": null,
      "metadata": {
        "id": "rafDEY4507Li"
      },
      "outputs": [],
      "source": [
        "courses = ['History', 'Math', 'Physics', 'CompSci']\n",
        "print(courses)"
      ]
    },
    {
      "cell_type": "code",
      "source": [
        "print(courses[0])"
      ],
      "metadata": {
        "id": "6rAdnORRDcsY"
      },
      "execution_count": null,
      "outputs": []
    },
    {
      "cell_type": "code",
      "source": [
        "print(courses[2:])"
      ],
      "metadata": {
        "id": "twWczb_vDir8"
      },
      "execution_count": null,
      "outputs": []
    },
    {
      "cell_type": "code",
      "source": [
        "print(courses[:2])"
      ],
      "metadata": {
        "id": "nNgtvUJ6Fyh2"
      },
      "execution_count": null,
      "outputs": []
    },
    {
      "cell_type": "code",
      "source": [
        "print(courses[-2])"
      ],
      "metadata": {
        "id": "-X6YlCw8ERJo"
      },
      "execution_count": null,
      "outputs": []
    },
    {
      "cell_type": "code",
      "source": [
        "courses.append('Art')\n",
        "print(courses)"
      ],
      "metadata": {
        "id": "t1Aq1Xa6JXM2"
      },
      "execution_count": null,
      "outputs": []
    },
    {
      "cell_type": "code",
      "source": [
        "courses.insert(0, 'Art')\n",
        "print(courses)"
      ],
      "metadata": {
        "id": "JOEokeCZK0SW"
      },
      "execution_count": null,
      "outputs": []
    },
    {
      "cell_type": "code",
      "source": [
        "courses = ['History', 'Physics', 'CompSci']\n",
        "courses_2 = ['Art', 'Education']"
      ],
      "metadata": {
        "id": "O7qNguU4Lzzn"
      },
      "execution_count": null,
      "outputs": []
    },
    {
      "cell_type": "code",
      "source": [
        "courses.insert(0, courses_2)\n",
        "print(courses)"
      ],
      "metadata": {
        "id": "_HDOE3KqMPjT"
      },
      "execution_count": null,
      "outputs": []
    },
    {
      "cell_type": "code",
      "source": [
        "courses = ['History', 'Physics', 'CompSci']\n",
        "courses_2 = ['Art', 'Education']"
      ],
      "metadata": {
        "id": "5X6qFjfnozio"
      },
      "execution_count": null,
      "outputs": []
    },
    {
      "cell_type": "code",
      "source": [
        "courses.extend(courses_2)\n",
        "print(courses)"
      ],
      "metadata": {
        "id": "vipehLu6M1lZ"
      },
      "execution_count": null,
      "outputs": []
    },
    {
      "cell_type": "code",
      "source": [
        "courses.append(courses_2)\n",
        "print(courses)"
      ],
      "metadata": {
        "id": "pNLY18p-NmVZ"
      },
      "execution_count": null,
      "outputs": []
    },
    {
      "cell_type": "code",
      "source": [
        "courses = ['History', 'Physics', 'CompSci']\n",
        "courses.pop()\n",
        "print(courses)"
      ],
      "metadata": {
        "id": "5_Gaky1rOI9W"
      },
      "execution_count": null,
      "outputs": []
    },
    {
      "cell_type": "code",
      "source": [
        "courses.reverse()\n",
        "print(courses)"
      ],
      "metadata": {
        "id": "4HF74UyJOe0E"
      },
      "execution_count": null,
      "outputs": []
    },
    {
      "cell_type": "code",
      "source": [
        "print(courses[:2])"
      ],
      "metadata": {
        "id": "YtH233gfpvyV"
      },
      "execution_count": null,
      "outputs": []
    },
    {
      "cell_type": "code",
      "source": [
        "courses = ['History', 'Math', 'Physics', 'CompSci']\n",
        "\n",
        "nums = [1, 5, 2, 4, 3]"
      ],
      "metadata": {
        "id": "KjgzIjlbqcfq"
      },
      "execution_count": null,
      "outputs": []
    },
    {
      "cell_type": "code",
      "source": [
        "courses.sort()"
      ],
      "metadata": {
        "id": "i5oEcnZtq_lo"
      },
      "execution_count": null,
      "outputs": []
    },
    {
      "cell_type": "code",
      "source": [
        "courses.sort(reverse=True)"
      ],
      "metadata": {
        "id": "EHhWco9yrr9B"
      },
      "execution_count": null,
      "outputs": []
    },
    {
      "cell_type": "code",
      "source": [
        "print(courses)"
      ],
      "metadata": {
        "id": "-p02pcl7rx1C"
      },
      "execution_count": null,
      "outputs": []
    },
    {
      "cell_type": "code",
      "source": [
        "nums.sort()"
      ],
      "metadata": {
        "id": "fDlpzYV_rMSE"
      },
      "execution_count": null,
      "outputs": []
    },
    {
      "cell_type": "code",
      "source": [
        "nums.sort(reverse=True)"
      ],
      "metadata": {
        "id": "F2RiAc0Urx54"
      },
      "execution_count": null,
      "outputs": []
    },
    {
      "cell_type": "code",
      "source": [
        "print(nums)"
      ],
      "metadata": {
        "id": "fZYFx1nwynsJ"
      },
      "execution_count": null,
      "outputs": []
    },
    {
      "cell_type": "code",
      "source": [
        "print(courses)"
      ],
      "metadata": {
        "id": "vhpr_d7-rRIt"
      },
      "execution_count": null,
      "outputs": []
    },
    {
      "cell_type": "code",
      "source": [
        "print(nums)"
      ],
      "metadata": {
        "id": "tE7DMSo6rjLl"
      },
      "execution_count": null,
      "outputs": []
    },
    {
      "cell_type": "code",
      "source": [
        "courses = ['History', 'Math', 'Physics', 'CompSci']\n",
        "\n",
        "nums = [1, 5, 2, 4, 3]"
      ],
      "metadata": {
        "id": "4paNQw5PzQQE"
      },
      "execution_count": null,
      "outputs": []
    },
    {
      "cell_type": "code",
      "source": [
        "sorted_courses = sorted(courses)"
      ],
      "metadata": {
        "id": "3juSFrAMzUsY"
      },
      "execution_count": null,
      "outputs": []
    },
    {
      "cell_type": "code",
      "source": [
        "print(sorted_courses)"
      ],
      "metadata": {
        "id": "ekkq4EjTzdm2"
      },
      "execution_count": null,
      "outputs": []
    },
    {
      "cell_type": "code",
      "source": [
        "print(courses.index('CompSci'))"
      ],
      "metadata": {
        "id": "F-xL6_Dc2JK-"
      },
      "execution_count": null,
      "outputs": []
    },
    {
      "cell_type": "code",
      "source": [
        "for item in courses:\n",
        "  print(item)"
      ],
      "metadata": {
        "id": "THm2xpJ33jGE"
      },
      "execution_count": null,
      "outputs": []
    },
    {
      "cell_type": "code",
      "source": [
        "for index, course in enumerate(courses):\n",
        "  print(index, course)"
      ],
      "metadata": {
        "id": "NojoAT8w3_Uj"
      },
      "execution_count": null,
      "outputs": []
    },
    {
      "cell_type": "code",
      "source": [
        "course_str = ' - '.join(courses)\n",
        "\n",
        "print(course_str)"
      ],
      "metadata": {
        "id": "IYPYFvTk5RUZ"
      },
      "execution_count": null,
      "outputs": []
    },
    {
      "cell_type": "code",
      "source": [
        "new_list = course_str.split(' - ')\n",
        "print(new_list)"
      ],
      "metadata": {
        "id": "w2S1Rr0B8VOx"
      },
      "execution_count": null,
      "outputs": []
    },
    {
      "cell_type": "code",
      "source": [
        "#Mutable\n",
        "list_1 = ['History', 'Math', 'Physics', 'CompSci']\n",
        "list_2 = list_1"
      ],
      "metadata": {
        "id": "ES3z6rMt9p7d"
      },
      "execution_count": null,
      "outputs": []
    },
    {
      "cell_type": "code",
      "source": [
        "print(list_1)"
      ],
      "metadata": {
        "id": "zLOOnwN8-AXk"
      },
      "execution_count": null,
      "outputs": []
    },
    {
      "cell_type": "code",
      "source": [
        "print(list_2)"
      ],
      "metadata": {
        "id": "k_-RwZqN-DJZ"
      },
      "execution_count": null,
      "outputs": []
    },
    {
      "cell_type": "code",
      "source": [
        "list_1[0] = 'Art'"
      ],
      "metadata": {
        "id": "1BpGyJzE-HxT"
      },
      "execution_count": null,
      "outputs": []
    },
    {
      "cell_type": "code",
      "source": [
        "print(list_1)"
      ],
      "metadata": {
        "id": "N0QL65HB-Lve"
      },
      "execution_count": null,
      "outputs": []
    },
    {
      "cell_type": "code",
      "source": [
        "# Sets\n",
        "cs_courses = {'History', 'Math', 'Physics', 'CompSci', 'Math'}\n",
        "\n",
        "print(cs_courses)"
      ],
      "metadata": {
        "id": "CPDzad91F_3p"
      },
      "execution_count": null,
      "outputs": []
    },
    {
      "cell_type": "code",
      "source": [
        "cs_courses = {'History', 'Math', 'Physics', 'CompSci', 'Math'}\n",
        "art_courses = {'History', 'Math', 'Art', 'Design'}\n",
        "\n",
        "print(cs_courses.difference(art_courses))"
      ],
      "metadata": {
        "id": "hV2F345GHDbr"
      },
      "execution_count": null,
      "outputs": []
    },
    {
      "cell_type": "code",
      "source": [
        "print(cs_courses.intersection(art_courses))"
      ],
      "metadata": {
        "id": "vux2asr_IALD"
      },
      "execution_count": null,
      "outputs": []
    },
    {
      "cell_type": "code",
      "source": [
        "print(cs_courses.union(art_courses))"
      ],
      "metadata": {
        "id": "7GIl8W0oIYwW"
      },
      "execution_count": null,
      "outputs": []
    }
  ]
}