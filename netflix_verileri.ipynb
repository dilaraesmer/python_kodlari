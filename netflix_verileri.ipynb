{
  "nbformat": 4,
  "nbformat_minor": 0,
  "metadata": {
    "colab": {
      "name": "netflix_verileri",
      "private_outputs": true,
      "provenance": [],
      "collapsed_sections": [],
      "authorship_tag": "ABX9TyOkGYMlI8ffGNy2BtvDGXUQ",
      "include_colab_link": true
    },
    "kernelspec": {
      "name": "python3",
      "display_name": "Python 3"
    },
    "language_info": {
      "name": "python"
    }
  },
  "cells": [
    {
      "cell_type": "markdown",
      "metadata": {
        "id": "view-in-github",
        "colab_type": "text"
      },
      "source": [
        "<a href=\"https://colab.research.google.com/github/dilaraesmer/python_kodlari/blob/main/netflix_verileri.ipynb\" target=\"_parent\"><img src=\"https://colab.research.google.com/assets/colab-badge.svg\" alt=\"Open In Colab\"/></a>"
      ]
    },
    {
      "cell_type": "code",
      "metadata": {
        "id": "gpALzZ1jLEnT"
      },
      "source": [
        "import pandas as pd\n",
        "import matplotlib.pyplot as plt\n",
        "import numpy as np"
      ],
      "execution_count": null,
      "outputs": []
    },
    {
      "cell_type": "code",
      "metadata": {
        "id": "QUDsFlLhFvfY"
      },
      "source": [
        "netflix_verisi = pd.read_csv(\"netflix_titles.csv\", sep=';') # csv dosyasını pythonun okumasını sağlayan komuttur.\n",
        "# Aynı zamanda \" sep= ';' \" komutu ile de değişkenleri ; ile ayırılması gerektiği bilgisini belirtmiş oluruz. \n",
        "netflix_verisi "
      ],
      "execution_count": null,
      "outputs": []
    },
    {
      "cell_type": "code",
      "metadata": {
        "id": "dA2KuaztfrcE"
      },
      "source": [
        "netflix_verisi.head() # 0'dan başlayarak ilk 5 satırı göstermektedir.\n",
        "netflix_verisi.tail() # 0'dan başlayarak son 5 satırı göstermektedir."
      ],
      "execution_count": null,
      "outputs": []
    },
    {
      "cell_type": "markdown",
      "metadata": {
        "id": "HkhtFs-1NLNX"
      },
      "source": [
        "Bir DataFrame'deki (veri çerçevesi) tüm sayısal veriler hakkında temel bilgi edinmek istiyorsak describe() fonksiyonunu kullanabiliriz. Her sütun veya serideki tüm değerler için sayıyı, ortalamayı, standart sapmayı, minimum ve maksimum değerlerini, yüzdelik dilimlerini (%25 %50 ve %75) olarak gösterir."
      ]
    },
    {
      "cell_type": "code",
      "metadata": {
        "id": "kppaD0nXMfy3"
      },
      "source": [
        "netflix_verisi.describe()"
      ],
      "execution_count": null,
      "outputs": []
    },
    {
      "cell_type": "markdown",
      "metadata": {
        "id": "urNprD38zQe4"
      },
      "source": [
        "Bir DataFrame'deki (Veri çerçevesi) sadece seçtiğimiz bir alt grubu görüntülemek istiyorsak seri şeklinde çıktıyı veren komut  ['sütun_ismi'] şeklinde yazılmalıdır. \n",
        "\n"
      ]
    },
    {
      "cell_type": "code",
      "metadata": {
        "id": "417xYw2D0VZF"
      },
      "source": [
        "netflix_verisi['title'] # veri setinin içerdiği filmlerin isimlerini görüntülemeyi sağlamıştır. \n",
        "# aynı zamanda veri sayısı ve tipi hakkında özet bilgiye sahip olmamızı sağlar. "
      ],
      "execution_count": null,
      "outputs": []
    },
    {
      "cell_type": "markdown",
      "metadata": {
        "id": "bPUaDuOx3xSD"
      },
      "source": [
        "Bir DataFrame'den bir satır alt kümesi seçmek istiyorsak, bunu köşeli parantezler içinde iki nokta üst üste (:) ile ayrılmış bir satır aralığı belirterek yapabiliriz. Bu genellikle bir satır dilimi olarak bilinir:"
      ]
    },
    {
      "cell_type": "code",
      "metadata": {
        "id": "WKC4g42R34Ga"
      },
      "source": [
        "netflix_verisi[0:11] # 0'dan başlayarak 1 ile 10 arasındaki satırları (1 ve 10 dahil olmak üzere) seçmek istersek bu komutu kullanırız."
      ],
      "execution_count": null,
      "outputs": []
    },
    {
      "cell_type": "markdown",
      "metadata": {
        "id": "_ie0EMkF9QSd"
      },
      "source": [
        "Bir veri alt kümesini seçmenin başka bir yolu da Boolean indekslemesi uygulamaktır. Bu indeksleme genellikle bir filtre olarak bilinir. Örneğin, 2010 yılına ait ve 2010 yılından eski filmleri filtrelemek istiyorsak aşagıdaki kodu kullanırız. \n",
        "tail() ya da head() kullandığımızda sondan veya baştan 5 gözlem değeri alabilmektedir."
      ]
    },
    {
      "cell_type": "code",
      "metadata": {
        "id": "nBkBHWyj9zTg"
      },
      "source": [
        "netflix_verisi[(netflix_verisi['release_year'] <= '2010' )].tail()"
      ],
      "execution_count": null,
      "outputs": []
    },
    {
      "cell_type": "markdown",
      "metadata": {
        "id": "Jfn_Vyz4QSm-"
      },
      "source": [
        "Pandas, eksik değerleri temsil etmek için özel NaN değerini (bir sayı değil) kullanır. Python'da NaN, sonuçlarından biri sürekli bir değerle sona erdiğinde belirli işlemler tarafından döndürülen özel bir sabit olmayan nokta değeridir. NaN değerlerine ait en önemli özelliklerden biri de, iki NaN'nin asla eşit olmamasıdır. Bu nedenle, DataFrame'de bir değerin eksik olup olmadığını anlamanın tek güvenli yolu isnull() işlevini kullanmaktır. Aslında, bu fonksiyon eksik değerlere sahip satırları filtrelemek için kullanılabilir."
      ]
    },
    {
      "cell_type": "code",
      "metadata": {
        "id": "3I8pwOf7Sq16"
      },
      "source": [
        "netflix_verisi[(netflix_verisi[\"release_year\"].isnull())].head()"
      ],
      "execution_count": null,
      "outputs": []
    },
    {
      "cell_type": "code",
      "metadata": {
        "id": "tuV1BuwBXsew"
      },
      "source": [
        "netflix_verisi[(netflix_verisi[\"cast\"].isnull())].head()"
      ],
      "execution_count": null,
      "outputs": []
    }
  ]
}