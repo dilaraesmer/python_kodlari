{
  "nbformat": 4,
  "nbformat_minor": 0,
  "metadata": {
    "colab": {
      "name": "python_kodlari1.ipynb",
      "private_outputs": true,
      "provenance": [],
      "collapsed_sections": []
    },
    "kernelspec": {
      "name": "python3",
      "display_name": "Python 3"
    },
    "language_info": {
      "name": "python"
    }
  },
  "cells": [
    {
      "cell_type": "code",
      "metadata": {
        "id": "ZzUDqn87Y_UJ"
      },
      "source": [
        "import pandas as pd\n",
        "import numpy as np\n",
        "import matplotlib.pyplot as plt\n"
      ],
      "execution_count": null,
      "outputs": []
    },
    {
      "cell_type": "code",
      "metadata": {
        "id": "AIVOSlI1b-3V"
      },
      "source": [
        "\n",
        "import pandas as pd\n",
        "pd.__version__\n",
        "\n",
        "team = pd.Series(['FCBarcelona', 'FCBarcelona',\n",
        "'FCBarcelona', 'RMadrid',\n",
        "'RMadrid', 'RMadrid',\n",
        "'ValenciaCF', 'ValenciaCF',\n",
        "'ValenciaCF'])\n",
        "year = pd.Series([2010, 2011, 2012,\n",
        "                  2010, 2011, 2012,\n",
        "                  2010, 2011, 2012])\n",
        "wins = pd.Series([30, 28, 32, 29, 32, 26, 21, 17, 19])\n",
        "draws = pd.Series([6, 7, 4, 5, 4, 7, 8, 10, 8])\n",
        "losses = pd.Series([2, 3, 2, 4, 2, 5, 9, 11, 11])\n",
        "data = pd.DataFrame({\"year\" : year, \"team\" : team, \"draws\" : draws, \"losses\" : losses})\n",
        "print(data)\n"
      ],
      "execution_count": null,
      "outputs": []
    }
  ]
}