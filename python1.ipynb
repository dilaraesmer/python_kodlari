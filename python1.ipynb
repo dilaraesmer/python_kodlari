{
  "nbformat": 4,
  "nbformat_minor": 0,
  "metadata": {
    "colab": {
      "name": "python1.ipynb",
      "private_outputs": true,
      "provenance": [],
      "collapsed_sections": []
    },
    "kernelspec": {
      "name": "python3",
      "display_name": "Python 3"
    },
    "language_info": {
      "name": "python"
    },
    "accelerator": "GPU"
  },
  "cells": [
    {
      "cell_type": "code",
      "metadata": {
        "id": "ZzUDqn87Y_UJ"
      },
      "source": [
        "import pandas as pd\n",
        "import numpy as np\n",
        "import matplotlib.pyplot as plt\n"
      ],
      "execution_count": null,
      "outputs": []
    },
    {
      "cell_type": "code",
      "metadata": {
        "id": "AIVOSlI1b-3V"
      },
      "source": [
        "\n",
        "import pandas as pd\n",
        "pd.__version__\n",
        "\n",
        "team = pd.Series(['FCBarcelona', 'FCBarcelona',\n",
        "'FCBarcelona', 'RMadrid',\n",
        "'RMadrid', 'RMadrid',\n",
        "'ValenciaCF', 'ValenciaCF',\n",
        "'ValenciaCF'])\n",
        "year = pd.Series([2010, 2011, 2012,\n",
        "                  2010, 2011, 2012,\n",
        "                  2010, 2011, 2012])\n",
        "wins = pd.Series([30, 28, 32, 29, 32, 26, 21, 17, 19])\n",
        "draws = pd.Series([6, 7, 4, 5, 4, 7, 8, 10, 8])\n",
        "losses = pd.Series([2, 3, 2, 4, 2, 5, 9, 11, 11])\n",
        "football = pd.DataFrame({\"year\" : year, \"team\" : team, \"draws\" : draws, \"losses\" : losses})\n",
        "print(football)\n"
      ],
      "execution_count": null,
      "outputs": []
    },
    {
      "cell_type": "code",
      "metadata": {
        "id": "uthsDF7LTECn"
      },
      "source": [
        "with open('egitim_verisi.txt', 'r') as f:\n",
        "  size_to_read = 100 # Verilerin başındaki sütunları göstermeyi sağlar \n",
        "  f_contents = f.readline(size_to_read)\n",
        "  print(f_contents, end = '')\n"
      ],
      "execution_count": null,
      "outputs": []
    },
    {
      "cell_type": "code",
      "metadata": {
        "id": "rBG-t8CKis6R"
      },
      "source": [
        " # Eğitim verisi adıyla txt formatıyla yüklemiş olduğum veri setini Python'ın okumasını sağlayan komut.\n",
        "egitim_verisi = open(\"egitim_verisi.txt\", \"r\")\n",
        "content = egitim_verisi.read()\n",
        "print(content) "
      ],
      "execution_count": null,
      "outputs": []
    },
    {
      "cell_type": "code",
      "metadata": {
        "id": "x131KsvIpk6t"
      },
      "source": [
        "content_list = content.split(\",\")\n",
        "egitim_verisi.close()\n",
        "print(content_list)"
      ],
      "execution_count": null,
      "outputs": []
    },
    {
      "cell_type": "code",
      "metadata": {
        "id": "11EiS9jXuXyQ"
      },
      "source": [
        "with open(\"egitim_verisi.txt\", \"r\") as data_file:\n",
        "  for line in data_file:\n",
        "    data = line.split()\n",
        "    print(data)\n",
        "    "
      ],
      "execution_count": null,
      "outputs": []
    },
    {
      "cell_type": "code",
      "metadata": {
        "id": "ljA8HexJw57z"
      },
      "source": [
        "with open(\"egitim_verisi.txt\", \"r\") as file:\n",
        "  for line in file:\n",
        "    my_data = line.strip().split(',')\n",
        "    print(my_data)\n",
        "   "
      ],
      "execution_count": null,
      "outputs": []
    },
    {
      "cell_type": "code",
      "metadata": {
        "id": "qKTqYqa1zVEZ"
      },
      "source": [
        "# Dosyaları listelemek için ls komutu kullanılır. \"ls\" kendi başına, gizli dosyalar dışında geçerli dizindeki tüm dosyaları listeler.\n",
        "! ls\n",
        "! ls -l\n"
      ],
      "execution_count": null,
      "outputs": []
    },
    {
      "cell_type": "code",
      "metadata": {
        "id": "oPYxKjwkRrpo"
      },
      "source": [
        "# Bash komut satırından basit bir metin dosyası oluşturma.\n",
        "! echo \"Verilerin normal dağılıma uyduğu varsayılmaktadır.\" > data.txt"
      ],
      "execution_count": null,
      "outputs": []
    },
    {
      "cell_type": "code",
      "metadata": {
        "id": "wxvA9ecPEvX8"
      },
      "source": [
        "# Txt formatında bir dosya oluşturmak için data2 değişkenini tanmlayıp w ile yazarak oluşturdum. \n",
        "data2 = open(\"data2.txt\", \"w\")\n",
        "data2.write(\"Verilerin normal dağılıma uyduğu varsayılmaktadır.\")\n",
        "data2.close()"
      ],
      "execution_count": null,
      "outputs": []
    },
    {
      "cell_type": "code",
      "metadata": {
        "id": "jrDzjsy4HCMk"
      },
      "source": [
        "ls -l"
      ],
      "execution_count": null,
      "outputs": []
    },
    {
      "cell_type": "code",
      "metadata": {
        "id": "WB2eV_pfQcNr"
      },
      "source": [
        "# cat komutu yeni oluşturulan dosyaların içeriğini görüntülememize imkan tanır.\n",
        "! cat data.txt \n",
        "! cat data2.txt"
      ],
      "execution_count": null,
      "outputs": []
    }
  ]
}